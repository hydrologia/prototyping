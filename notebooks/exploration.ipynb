{
 "cells": [
  {
   "cell_type": "markdown",
   "id": "de4c0f1b-7588-4345-a75a-23828399bad8",
   "metadata": {},
   "source": [
    "Sources:\n",
    "\n",
    "* <a href=\"https://environment.data.gov.uk/catchment-planning/api/docs\" target=\"_blank\">Catchment Data</a>\n",
    "\n",
    "<br>\n",
    "<br>\n",
    "\n",
    "# Preliminaries"
   ]
  },
  {
   "cell_type": "markdown",
   "id": "eb991d7a-6e2a-4547-a37d-ffbe7dc968be",
   "metadata": {},
   "source": [
    "## Libraries"
   ]
  },
  {
   "cell_type": "code",
   "execution_count": 1,
   "id": "35c3f075-c28a-40fb-b173-b3c1b2cd7668",
   "metadata": {
    "tags": []
   },
   "outputs": [],
   "source": [
    "import logging\n",
    "import os\n",
    "import zipfile\n",
    "import io\n",
    "import requests\n",
    "\n",
    "import pandas as pd\n",
    "import geopandas as gpd\n",
    "import folium\n",
    "\n",
    "import seaborn as sns"
   ]
  },
  {
   "cell_type": "markdown",
   "id": "07870c7d-de78-49d7-8a99-809571543821",
   "metadata": {},
   "source": [
    "<br>\n",
    "\n",
    "Custom"
   ]
  },
  {
   "cell_type": "code",
   "execution_count": 2,
   "id": "7a9f8eed-048c-4da1-b41a-36418e5a07bf",
   "metadata": {
    "tags": []
   },
   "outputs": [],
   "source": [
    "import src.functions.archives\n",
    "import src.functions.directories\n",
    "import src.functions.streams"
   ]
  },
  {
   "cell_type": "code",
   "execution_count": 3,
   "id": "c40595ef-319e-49b3-a777-6760757b2533",
   "metadata": {
    "tags": []
   },
   "outputs": [],
   "source": [
    "archives = src.functions.archives.Archives()\n",
    "streams = src.functions.streams.Streams()"
   ]
  },
  {
   "cell_type": "markdown",
   "id": "6e0a221a-747c-471a-a15c-eef92f000e5f",
   "metadata": {},
   "source": [
    "<br>"
   ]
  },
  {
   "cell_type": "markdown",
   "id": "ff7f96cd-8163-4928-94c9-4be13d1e8cd4",
   "metadata": {},
   "source": [
    "## Logging"
   ]
  },
  {
   "cell_type": "code",
   "execution_count": 4,
   "id": "ff65a1ee-ef83-4259-9613-c45dee61e890",
   "metadata": {
    "tags": []
   },
   "outputs": [],
   "source": [
    "logging.basicConfig(level=logging.INFO,\n",
    "                    format='\\n%(message)s\\n%(asctime)s.%(msecs)03d',\n",
    "                    datefmt='%Y-%m-%d %H:%M:%S')\n",
    "logger = logging.getLogger(__name__)"
   ]
  },
  {
   "cell_type": "markdown",
   "id": "2ebdbd4f-60d7-42ef-b187-a23da67dc5f3",
   "metadata": {},
   "source": [
    "<br>\n",
    "\n",
    "## Settings"
   ]
  },
  {
   "cell_type": "markdown",
   "id": "95f31da0-81e3-41b9-9bec-77b20e277fd8",
   "metadata": {},
   "source": [
    "Graph Settings"
   ]
  },
  {
   "cell_type": "code",
   "execution_count": 5,
   "id": "326cd965-704f-494a-8fd9-3589534db7de",
   "metadata": {
    "tags": []
   },
   "outputs": [],
   "source": [
    "sns.set_style(\"white\")\n",
    "sns.set_context(\"poster\")\n",
    "sns.set(font_scale=1.5)"
   ]
  },
  {
   "cell_type": "markdown",
   "id": "8af3e8a5-5810-4454-bde7-ebc013cb88ae",
   "metadata": {},
   "source": [
    "<br>\n",
    "\n",
    "Paths"
   ]
  },
  {
   "cell_type": "code",
   "execution_count": 6,
   "id": "9c63ec74-8c70-4d92-827b-ea549f94a09c",
   "metadata": {
    "tags": []
   },
   "outputs": [
    {
     "name": "stderr",
     "output_type": "stream",
     "text": [
      "\n",
      "J:\\library\\thirdreading\\experiment\n",
      "2023-06-23 21:20:19.451\n"
     ]
    }
   ],
   "source": [
    "root = os.getcwd()\n",
    "logger.info(root)"
   ]
  },
  {
   "cell_type": "markdown",
   "id": "8471fc56-9ff9-446c-8e9f-515673f1b462",
   "metadata": {},
   "source": [
    "<br>"
   ]
  },
  {
   "cell_type": "markdown",
   "id": "94a6903e-a044-49a8-9bec-c3fd915b76ab",
   "metadata": {},
   "source": [
    "# Exploration"
   ]
  },
  {
   "cell_type": "markdown",
   "id": "14522ce4-6806-4d5d-8a41-eb4ef19471f4",
   "metadata": {
    "tags": []
   },
   "source": [
    "## SHAPE"
   ]
  },
  {
   "cell_type": "code",
   "execution_count": 7,
   "id": "3d571537-477c-4744-a662-edb52006ff0c",
   "metadata": {
    "tags": []
   },
   "outputs": [],
   "source": [
    "blob = 'https://environment.data.gov.uk/catchment-planning/England/shapefile.zip'\n",
    "path = os.path.join(os.getcwd(), 'data', 'mapping', 'island')\n",
    "archives.directory(path)"
   ]
  },
  {
   "cell_type": "raw",
   "id": "675cc43d-0bd0-4acf-900a-b76417f03783",
   "metadata": {
    "tags": []
   },
   "source": [
    "archives.decompress(blob=blob, path=path)"
   ]
  },
  {
   "cell_type": "markdown",
   "id": "bb87aaf0-d572-4e91-8125-fd496af2d5ec",
   "metadata": {},
   "source": [
    "<br>"
   ]
  },
  {
   "cell_type": "markdown",
   "id": "d5aa3c01-cf5a-474b-9247-92f415228f75",
   "metadata": {
    "tags": []
   },
   "source": [
    "## GeoJSON"
   ]
  },
  {
   "cell_type": "code",
   "execution_count": 8,
   "id": "ea0242de-fe69-4572-b98f-4e9dc21916ca",
   "metadata": {
    "tags": []
   },
   "outputs": [],
   "source": [
    "url = 'https://code.highcharts.com/mapdata/countries/gb/gb-all.geo.json'\n",
    "readings = gpd.read_file(filename=url)"
   ]
  },
  {
   "cell_type": "code",
   "execution_count": 9,
   "id": "9a6600e9-2aff-4bae-a3ad-06209499e054",
   "metadata": {
    "tags": []
   },
   "outputs": [
    {
     "data": {
      "text/html": [
       "<div>\n",
       "<style scoped>\n",
       "    .dataframe tbody tr th:only-of-type {\n",
       "        vertical-align: middle;\n",
       "    }\n",
       "\n",
       "    .dataframe tbody tr th {\n",
       "        vertical-align: top;\n",
       "    }\n",
       "\n",
       "    .dataframe thead th {\n",
       "        text-align: right;\n",
       "    }\n",
       "</style>\n",
       "<table border=\"1\" class=\"dataframe\">\n",
       "  <thead>\n",
       "    <tr style=\"text-align: right;\">\n",
       "      <th></th>\n",
       "      <th>subregion</th>\n",
       "      <th>woe-name</th>\n",
       "      <th>fips</th>\n",
       "      <th>latitude</th>\n",
       "      <th>woe-label</th>\n",
       "      <th>postal-code</th>\n",
       "      <th>type</th>\n",
       "      <th>name</th>\n",
       "      <th>geometry</th>\n",
       "    </tr>\n",
       "  </thead>\n",
       "  <tbody>\n",
       "    <tr>\n",
       "      <th>228</th>\n",
       "      <td>Kent</td>\n",
       "      <td>Medway</td>\n",
       "      <td>UK24</td>\n",
       "      <td>51.3541</td>\n",
       "      <td>NaN</td>\n",
       "      <td>MW</td>\n",
       "      <td>Unitary Authority</td>\n",
       "      <td>Medway</td>\n",
       "      <td>POLYGON ((4977.000 761.000, 4994.000 766.000, ...</td>\n",
       "    </tr>\n",
       "    <tr>\n",
       "      <th>229</th>\n",
       "      <td>Bedfordshire</td>\n",
       "      <td>Luton Borough</td>\n",
       "      <td>UK02</td>\n",
       "      <td>51.8763</td>\n",
       "      <td>NaN</td>\n",
       "      <td>LU</td>\n",
       "      <td>Unitary Authority</td>\n",
       "      <td>Luton</td>\n",
       "      <td>POLYGON ((4318.000 1244.000, 4356.000 1164.000...</td>\n",
       "    </tr>\n",
       "    <tr>\n",
       "      <th>230</th>\n",
       "      <td>Wiltshire</td>\n",
       "      <td>Wiltshire</td>\n",
       "      <td>UK46</td>\n",
       "      <td>51.3289</td>\n",
       "      <td>NaN</td>\n",
       "      <td>WL</td>\n",
       "      <td>Unitary Single-Tier County</td>\n",
       "      <td>Wiltshire</td>\n",
       "      <td>POLYGON ((3343.000 928.000, 3284.000 821.000, ...</td>\n",
       "    </tr>\n",
       "    <tr>\n",
       "      <th>231</th>\n",
       "      <td>The Islands</td>\n",
       "      <td>Shetland Islands</td>\n",
       "      <td>UK83</td>\n",
       "      <td>60.3097</td>\n",
       "      <td>NaN</td>\n",
       "      <td>NaN</td>\n",
       "      <td>Unitary District (city)</td>\n",
       "      <td>Shetland Islands</td>\n",
       "      <td>MULTIPOLYGON (((4780.000 7650.000, 4779.000 76...</td>\n",
       "    </tr>\n",
       "    <tr>\n",
       "      <th>232</th>\n",
       "      <td>NaN</td>\n",
       "      <td>NaN</td>\n",
       "      <td>NaN</td>\n",
       "      <td>NaN</td>\n",
       "      <td>NaN</td>\n",
       "      <td>NaN</td>\n",
       "      <td>NaN</td>\n",
       "      <td>NaN</td>\n",
       "      <td>LINESTRING (4078.000 9677.000, 4078.000 7445.000)</td>\n",
       "    </tr>\n",
       "  </tbody>\n",
       "</table>\n",
       "</div>"
      ],
      "text/plain": [
       "        subregion          woe-name  fips latitude woe-label postal-code  \\\n",
       "228          Kent            Medway  UK24  51.3541       NaN          MW   \n",
       "229  Bedfordshire     Luton Borough  UK02  51.8763       NaN          LU   \n",
       "230     Wiltshire         Wiltshire  UK46  51.3289       NaN          WL   \n",
       "231   The Islands  Shetland Islands  UK83  60.3097       NaN         NaN   \n",
       "232           NaN               NaN   NaN      NaN       NaN         NaN   \n",
       "\n",
       "                           type              name  \\\n",
       "228           Unitary Authority            Medway   \n",
       "229           Unitary Authority             Luton   \n",
       "230  Unitary Single-Tier County         Wiltshire   \n",
       "231     Unitary District (city)  Shetland Islands   \n",
       "232                         NaN               NaN   \n",
       "\n",
       "                                              geometry  \n",
       "228  POLYGON ((4977.000 761.000, 4994.000 766.000, ...  \n",
       "229  POLYGON ((4318.000 1244.000, 4356.000 1164.000...  \n",
       "230  POLYGON ((3343.000 928.000, 3284.000 821.000, ...  \n",
       "231  MULTIPOLYGON (((4780.000 7650.000, 4779.000 76...  \n",
       "232  LINESTRING (4078.000 9677.000, 4078.000 7445.000)  "
      ]
     },
     "execution_count": 9,
     "metadata": {},
     "output_type": "execute_result"
    }
   ],
   "source": [
    "readings.tail().iloc[:, -9:]"
   ]
  },
  {
   "cell_type": "markdown",
   "id": "fa47dc44-809b-4ea6-907f-98f39ff93b1b",
   "metadata": {},
   "source": [
    "<br>"
   ]
  },
  {
   "cell_type": "markdown",
   "id": "cbef9fcc-1fdb-4a6b-a709-66867559d278",
   "metadata": {},
   "source": [
    "# Hydrometry, Elements, Discharges"
   ]
  },
  {
   "cell_type": "markdown",
   "id": "db1c0e1b-498f-42e0-a554-3858caa95047",
   "metadata": {},
   "source": [
    "## Hydrometry Stations"
   ]
  },
  {
   "cell_type": "code",
   "execution_count": 10,
   "id": "cd51e697-1202-432c-922f-3c441d4b1a60",
   "metadata": {
    "tags": []
   },
   "outputs": [],
   "source": [
    "storage = os.path.join(root, 'warehouse', 'hydrometry', 'references')"
   ]
  },
  {
   "cell_type": "markdown",
   "id": "202c3ce7-4f0d-4610-beab-5da6f019d800",
   "metadata": {},
   "source": [
    "<br>\n",
    "\n",
    "The gazetteer of hydrometry stations."
   ]
  },
  {
   "cell_type": "code",
   "execution_count": 11,
   "id": "a99a0b3c-8bf0-4f71-8bcd-4e39608a9625",
   "metadata": {
    "tags": []
   },
   "outputs": [
    {
     "name": "stdout",
     "output_type": "stream",
     "text": [
      "<class 'pandas.core.frame.DataFrame'>\n",
      "RangeIndex: 8004 entries, 0 to 8003\n",
      "Data columns (total 16 columns):\n",
      " #   Column                 Non-Null Count  Dtype  \n",
      "---  ------                 --------------  -----  \n",
      " 0   station_id             8004 non-null   object \n",
      " 1   station_guid           6499 non-null   object \n",
      " 2   easting                8004 non-null   int64  \n",
      " 3   northing               8004 non-null   int64  \n",
      " 4   longitude              8004 non-null   float64\n",
      " 5   latitude               8004 non-null   float64\n",
      " 6   catchment_area         649 non-null    float64\n",
      " 7   station_name           8004 non-null   object \n",
      " 8   river_name             3539 non-null   object \n",
      " 9   date_opened            7987 non-null   object \n",
      " 10  date_closed            1439 non-null   object \n",
      " 11  wiski_id               6499 non-null   object \n",
      " 12  river_level_tool_id    1780 non-null   float64\n",
      " 13  rfa_station_id         809 non-null    float64\n",
      " 14  station_status         7987 non-null   object \n",
      " 15  station_status_reason  103 non-null    object \n",
      "dtypes: float64(5), int64(2), object(9)\n",
      "memory usage: 1000.6+ KB\n"
     ]
    }
   ],
   "source": [
    "gazetteer = streams.read(uri = os.path.join(storage, 'gazetteer.csv'), header=0)\n",
    "gazetteer.info()"
   ]
  },
  {
   "cell_type": "markdown",
   "id": "bf59e556-f305-4d0d-9b7e-e475442d06eb",
   "metadata": {},
   "source": [
    "<br>\n",
    "\n",
    "The measures associated with each station."
   ]
  },
  {
   "cell_type": "code",
   "execution_count": 12,
   "id": "866bd331-47c7-49f5-b2f6-7bbfe1e997e5",
   "metadata": {
    "tags": []
   },
   "outputs": [
    {
     "name": "stdout",
     "output_type": "stream",
     "text": [
      "<class 'pandas.core.frame.DataFrame'>\n",
      "RangeIndex: 41863 entries, 0 to 41862\n",
      "Data columns (total 4 columns):\n",
      " #   Column        Non-Null Count  Dtype \n",
      "---  ------        --------------  ----- \n",
      " 0   station_id    41863 non-null  object\n",
      " 1   station_guid  20331 non-null  object\n",
      " 2   segment       41863 non-null  object\n",
      " 3   measure       41863 non-null  object\n",
      "dtypes: object(4)\n",
      "memory usage: 1.3+ MB\n"
     ]
    }
   ],
   "source": [
    "sources = streams.read(uri = os.path.join(storage, 'sources.csv'), header=0)\n",
    "sources = sources.copy()[['station_id', 'station_guid', 'segment', 'measure']]\n",
    "sources.info()"
   ]
  },
  {
   "cell_type": "markdown",
   "id": "7a231512-8fcc-4f08-9279-6af03da7053c",
   "metadata": {},
   "source": [
    "<br>\n",
    "\n",
    "### Focusing on water integrity stations\n"
   ]
  },
  {
   "cell_type": "code",
   "execution_count": 13,
   "id": "e75f8a35-63b2-4719-96b4-04aac7317c03",
   "metadata": {
    "tags": []
   },
   "outputs": [
    {
     "name": "stderr",
     "output_type": "stream",
     "text": [
      "\n",
      "['is_groundwater' 'is_rainfall_station' 'is_sampling_location'\n",
      " 'is_integrity_station']\n",
      "2023-06-23 21:20:20.474\n"
     ]
    }
   ],
   "source": [
    "logger.info(sources['segment'].unique())"
   ]
  },
  {
   "cell_type": "markdown",
   "id": "64ea356f-eedb-49f6-8b8c-e653a94c4cd2",
   "metadata": {},
   "source": [
    "<br>\n",
    "\n",
    "Hence"
   ]
  },
  {
   "cell_type": "code",
   "execution_count": 14,
   "id": "7c00e266-182d-4f85-9dbf-6b6623fec67f",
   "metadata": {
    "tags": []
   },
   "outputs": [
    {
     "name": "stdout",
     "output_type": "stream",
     "text": [
      "<class 'pandas.core.frame.DataFrame'>\n",
      "Int64Index: 10766 entries, 20485 to 41862\n",
      "Data columns (total 4 columns):\n",
      " #   Column        Non-Null Count  Dtype \n",
      "---  ------        --------------  ----- \n",
      " 0   station_id    10766 non-null  object\n",
      " 1   station_guid  0 non-null      object\n",
      " 2   segment       10766 non-null  object\n",
      " 3   measure       10766 non-null  object\n",
      "dtypes: object(4)\n",
      "memory usage: 420.5+ KB\n"
     ]
    }
   ],
   "source": [
    "excerpt = sources.loc[sources['segment'] == 'is_integrity_station', :]\n",
    "excerpt.info()"
   ]
  },
  {
   "cell_type": "markdown",
   "id": "1083eb17-7fd2-4a2c-90ba-a6bd550f1679",
   "metadata": {},
   "source": [
    "<br>\n",
    "\n",
    "Excluding measure details, i.e., focusing on identifiers and co$\\ddot{o}$rdinates of the water integrity stations."
   ]
  },
  {
   "cell_type": "code",
   "execution_count": 15,
   "id": "b829cd16-fbc1-4bb7-93e8-43ecca27a05d",
   "metadata": {
    "tags": []
   },
   "outputs": [
    {
     "name": "stdout",
     "output_type": "stream",
     "text": [
      "<class 'pandas.core.frame.DataFrame'>\n",
      "Int64Index: 1505 entries, 0 to 1504\n",
      "Data columns (total 17 columns):\n",
      " #   Column                 Non-Null Count  Dtype  \n",
      "---  ------                 --------------  -----  \n",
      " 0   station_id             1505 non-null   object \n",
      " 1   station_guid           0 non-null      object \n",
      " 2   easting                1505 non-null   int64  \n",
      " 3   northing               1505 non-null   int64  \n",
      " 4   longitude              1505 non-null   float64\n",
      " 5   latitude               1505 non-null   float64\n",
      " 6   catchment_area         0 non-null      float64\n",
      " 7   station_name           1505 non-null   object \n",
      " 8   river_name             1505 non-null   object \n",
      " 9   date_opened            1505 non-null   object \n",
      " 10  date_closed            1439 non-null   object \n",
      " 11  wiski_id               0 non-null      object \n",
      " 12  river_level_tool_id    0 non-null      float64\n",
      " 13  rfa_station_id         0 non-null      float64\n",
      " 14  station_status         1505 non-null   object \n",
      " 15  station_status_reason  0 non-null      object \n",
      " 16  segment                1505 non-null   object \n",
      "dtypes: float64(5), int64(2), object(10)\n",
      "memory usage: 211.6+ KB\n"
     ]
    }
   ],
   "source": [
    "points = excerpt[['station_id', 'station_guid', 'segment']].drop_duplicates()\n",
    "points = gazetteer.merge(points, how='right', on=['station_id', 'station_guid'])\n",
    "points.info()"
   ]
  },
  {
   "cell_type": "markdown",
   "id": "dffcfd0a-516b-4ae9-9c90-5e808abc2815",
   "metadata": {},
   "source": [
    "<br>\n",
    "\n",
    "### Illustrations"
   ]
  },
  {
   "cell_type": "code",
   "execution_count": 16,
   "id": "67beb58a-c7e3-4ef9-8db8-599869a98835",
   "metadata": {
    "tags": []
   },
   "outputs": [
    {
     "data": {
      "text/plain": [
       "geometry    POINT (-1.9180234948012402 54.31536155)\n",
       "address               Great Britain, United Kingdom\n",
       "Name: 0, dtype: object"
      ]
     },
     "execution_count": 16,
     "metadata": {},
     "output_type": "execute_result"
    }
   ],
   "source": [
    "centre = gpd.tools.geocode('Great Britain', provider='nominatim', user_agent='spatial.analysis').loc[0, :]\n",
    "centre"
   ]
  },
  {
   "cell_type": "code",
   "execution_count": 17,
   "id": "cf1c3940-c8a2-4988-a997-0592775f1f32",
   "metadata": {
    "tags": []
   },
   "outputs": [],
   "source": [
    "longitude = centre.geometry.x\n",
    "latitude = centre.geometry.y"
   ]
  },
  {
   "cell_type": "code",
   "execution_count": 18,
   "id": "8982ee0c-ab10-472a-be19-6c8db333be1f",
   "metadata": {
    "tags": []
   },
   "outputs": [
    {
     "data": {
      "text/html": [
       "<div style=\"width:100%;\"><div style=\"position:relative;width:100%;height:0;padding-bottom:60%;\"><span style=\"color:#565656\">Make this Notebook Trusted to load map: File -> Trust Notebook</span><iframe srcdoc=\"&lt;!DOCTYPE html&gt;\n",
       "&lt;html&gt;\n",
       "&lt;head&gt;\n",
       "    \n",
       "    &lt;meta http-equiv=&quot;content-type&quot; content=&quot;text/html; charset=UTF-8&quot; /&gt;\n",
       "    \n",
       "        &lt;script&gt;\n",
       "            L_NO_TOUCH = false;\n",
       "            L_DISABLE_3D = false;\n",
       "        &lt;/script&gt;\n",
       "    \n",
       "    &lt;style&gt;html, body {width: 100%;height: 100%;margin: 0;padding: 0;}&lt;/style&gt;\n",
       "    &lt;style&gt;#map {position:absolute;top:0;bottom:0;right:0;left:0;}&lt;/style&gt;\n",
       "    &lt;script src=&quot;https://cdn.jsdelivr.net/npm/leaflet@1.9.3/dist/leaflet.js&quot;&gt;&lt;/script&gt;\n",
       "    &lt;script src=&quot;https://code.jquery.com/jquery-1.12.4.min.js&quot;&gt;&lt;/script&gt;\n",
       "    &lt;script src=&quot;https://cdn.jsdelivr.net/npm/bootstrap@5.2.2/dist/js/bootstrap.bundle.min.js&quot;&gt;&lt;/script&gt;\n",
       "    &lt;script src=&quot;https://cdnjs.cloudflare.com/ajax/libs/Leaflet.awesome-markers/2.0.2/leaflet.awesome-markers.js&quot;&gt;&lt;/script&gt;\n",
       "    &lt;link rel=&quot;stylesheet&quot; href=&quot;https://cdn.jsdelivr.net/npm/leaflet@1.9.3/dist/leaflet.css&quot;/&gt;\n",
       "    &lt;link rel=&quot;stylesheet&quot; href=&quot;https://cdn.jsdelivr.net/npm/bootstrap@5.2.2/dist/css/bootstrap.min.css&quot;/&gt;\n",
       "    &lt;link rel=&quot;stylesheet&quot; href=&quot;https://netdna.bootstrapcdn.com/bootstrap/3.0.0/css/bootstrap.min.css&quot;/&gt;\n",
       "    &lt;link rel=&quot;stylesheet&quot; href=&quot;https://cdn.jsdelivr.net/npm/@fortawesome/fontawesome-free@6.2.0/css/all.min.css&quot;/&gt;\n",
       "    &lt;link rel=&quot;stylesheet&quot; href=&quot;https://cdnjs.cloudflare.com/ajax/libs/Leaflet.awesome-markers/2.0.2/leaflet.awesome-markers.css&quot;/&gt;\n",
       "    &lt;link rel=&quot;stylesheet&quot; href=&quot;https://cdn.jsdelivr.net/gh/python-visualization/folium/folium/templates/leaflet.awesome.rotate.min.css&quot;/&gt;\n",
       "    \n",
       "            &lt;meta name=&quot;viewport&quot; content=&quot;width=device-width,\n",
       "                initial-scale=1.0, maximum-scale=1.0, user-scalable=no&quot; /&gt;\n",
       "            &lt;style&gt;\n",
       "                #map_80a7be4b53d793480b98a7e283f76a81 {\n",
       "                    position: relative;\n",
       "                    width: 65.0%;\n",
       "                    height: 65.0%;\n",
       "                    left: 0.0%;\n",
       "                    top: 0.0%;\n",
       "                }\n",
       "                .leaflet-container { font-size: 1rem; }\n",
       "            &lt;/style&gt;\n",
       "        \n",
       "&lt;/head&gt;\n",
       "&lt;body&gt;\n",
       "    \n",
       "    \n",
       "            &lt;div class=&quot;folium-map&quot; id=&quot;map_80a7be4b53d793480b98a7e283f76a81&quot; &gt;&lt;/div&gt;\n",
       "        \n",
       "&lt;/body&gt;\n",
       "&lt;script&gt;\n",
       "    \n",
       "    \n",
       "            var map_80a7be4b53d793480b98a7e283f76a81 = L.map(\n",
       "                &quot;map_80a7be4b53d793480b98a7e283f76a81&quot;,\n",
       "                {\n",
       "                    center: [54.31536155, -1.9180234948012402],\n",
       "                    crs: L.CRS.EPSG3857,\n",
       "                    zoom: 8,\n",
       "                    zoomControl: true,\n",
       "                    preferCanvas: false,\n",
       "                }\n",
       "            );\n",
       "\n",
       "            \n",
       "\n",
       "        \n",
       "    \n",
       "            var tile_layer_fcba5dec480c5b56428ba12433604bce = L.tileLayer(\n",
       "                &quot;https://stamen-tiles-{s}.a.ssl.fastly.net/terrain/{z}/{x}/{y}.jpg&quot;,\n",
       "                {&quot;attribution&quot;: &quot;Map tiles by \\u003ca target=\\&quot;_blank\\&quot; href=\\&quot;http://stamen.com\\&quot;\\u003eStamen Design\\u003c/a\\u003e, under \\u003ca target=\\&quot;_blank\\&quot; href=\\&quot;http://creativecommons.org/licenses/by/3.0\\&quot;\\u003eCC BY 3.0\\u003c/a\\u003e. Data by \\u0026copy; \\u003ca target=\\&quot;_blank\\&quot; href=\\&quot;http://openstreetmap.org\\&quot;\\u003eOpenStreetMap\\u003c/a\\u003e, under \\u003ca target=\\&quot;_blank\\&quot; href=\\&quot;http://creativecommons.org/licenses/by-sa/3.0\\&quot;\\u003eCC BY SA\\u003c/a\\u003e.&quot;, &quot;detectRetina&quot;: false, &quot;maxNativeZoom&quot;: 18, &quot;maxZoom&quot;: 18, &quot;minZoom&quot;: 0, &quot;noWrap&quot;: false, &quot;opacity&quot;: 1, &quot;subdomains&quot;: &quot;abc&quot;, &quot;tms&quot;: false}\n",
       "            ).addTo(map_80a7be4b53d793480b98a7e283f76a81);\n",
       "        \n",
       "&lt;/script&gt;\n",
       "&lt;/html&gt;\" style=\"position:absolute;width:100%;height:100%;left:0;top:0;border:none !important;\" allowfullscreen webkitallowfullscreen mozallowfullscreen></iframe></div></div>"
      ],
      "text/plain": [
       "<folium.folium.Map at 0x1e100ac0e90>"
      ]
     },
     "execution_count": 18,
     "metadata": {},
     "output_type": "execute_result"
    }
   ],
   "source": [
    "gbr = folium.Map(location=[latitude, longitude], tiles='Stamen Terrain', zoom_start=8, width='65%', height='65%')\n",
    "gbr"
   ]
  },
  {
   "cell_type": "code",
   "execution_count": 19,
   "id": "9572d3fd-1645-49e7-aaa5-ce330d046e22",
   "metadata": {
    "tags": []
   },
   "outputs": [
    {
     "data": {
      "text/html": [
       "<div style=\"width:100%;\"><div style=\"position:relative;width:100%;height:0;padding-bottom:60%;\"><span style=\"color:#565656\">Make this Notebook Trusted to load map: File -> Trust Notebook</span><iframe srcdoc=\"&lt;!DOCTYPE html&gt;\n",
       "&lt;html&gt;\n",
       "&lt;head&gt;\n",
       "    \n",
       "    &lt;meta http-equiv=&quot;content-type&quot; content=&quot;text/html; charset=UTF-8&quot; /&gt;\n",
       "    \n",
       "        &lt;script&gt;\n",
       "            L_NO_TOUCH = false;\n",
       "            L_DISABLE_3D = false;\n",
       "        &lt;/script&gt;\n",
       "    \n",
       "    &lt;style&gt;html, body {width: 100%;height: 100%;margin: 0;padding: 0;}&lt;/style&gt;\n",
       "    &lt;style&gt;#map {position:absolute;top:0;bottom:0;right:0;left:0;}&lt;/style&gt;\n",
       "    &lt;script src=&quot;https://cdn.jsdelivr.net/npm/leaflet@1.9.3/dist/leaflet.js&quot;&gt;&lt;/script&gt;\n",
       "    &lt;script src=&quot;https://code.jquery.com/jquery-1.12.4.min.js&quot;&gt;&lt;/script&gt;\n",
       "    &lt;script src=&quot;https://cdn.jsdelivr.net/npm/bootstrap@5.2.2/dist/js/bootstrap.bundle.min.js&quot;&gt;&lt;/script&gt;\n",
       "    &lt;script src=&quot;https://cdnjs.cloudflare.com/ajax/libs/Leaflet.awesome-markers/2.0.2/leaflet.awesome-markers.js&quot;&gt;&lt;/script&gt;\n",
       "    &lt;link rel=&quot;stylesheet&quot; href=&quot;https://cdn.jsdelivr.net/npm/leaflet@1.9.3/dist/leaflet.css&quot;/&gt;\n",
       "    &lt;link rel=&quot;stylesheet&quot; href=&quot;https://cdn.jsdelivr.net/npm/bootstrap@5.2.2/dist/css/bootstrap.min.css&quot;/&gt;\n",
       "    &lt;link rel=&quot;stylesheet&quot; href=&quot;https://netdna.bootstrapcdn.com/bootstrap/3.0.0/css/bootstrap.min.css&quot;/&gt;\n",
       "    &lt;link rel=&quot;stylesheet&quot; href=&quot;https://cdn.jsdelivr.net/npm/@fortawesome/fontawesome-free@6.2.0/css/all.min.css&quot;/&gt;\n",
       "    &lt;link rel=&quot;stylesheet&quot; href=&quot;https://cdnjs.cloudflare.com/ajax/libs/Leaflet.awesome-markers/2.0.2/leaflet.awesome-markers.css&quot;/&gt;\n",
       "    &lt;link rel=&quot;stylesheet&quot; href=&quot;https://cdn.jsdelivr.net/gh/python-visualization/folium/folium/templates/leaflet.awesome.rotate.min.css&quot;/&gt;\n",
       "    \n",
       "            &lt;meta name=&quot;viewport&quot; content=&quot;width=device-width,\n",
       "                initial-scale=1.0, maximum-scale=1.0, user-scalable=no&quot; /&gt;\n",
       "            &lt;style&gt;\n",
       "                #map_36208cd6cdb9dc174dcfaba659def923 {\n",
       "                    position: relative;\n",
       "                    width: 65.0%;\n",
       "                    height: 65.0%;\n",
       "                    left: 0.0%;\n",
       "                    top: 0.0%;\n",
       "                }\n",
       "                .leaflet-container { font-size: 1rem; }\n",
       "            &lt;/style&gt;\n",
       "        \n",
       "&lt;/head&gt;\n",
       "&lt;body&gt;\n",
       "    \n",
       "    \n",
       "            &lt;div class=&quot;folium-map&quot; id=&quot;map_36208cd6cdb9dc174dcfaba659def923&quot; &gt;&lt;/div&gt;\n",
       "        \n",
       "&lt;/body&gt;\n",
       "&lt;script&gt;\n",
       "    \n",
       "    \n",
       "            var map_36208cd6cdb9dc174dcfaba659def923 = L.map(\n",
       "                &quot;map_36208cd6cdb9dc174dcfaba659def923&quot;,\n",
       "                {\n",
       "                    center: [54.31536155, -1.9180234948012402],\n",
       "                    crs: L.CRS.EPSG3857,\n",
       "                    zoom: 8,\n",
       "                    zoomControl: true,\n",
       "                    preferCanvas: false,\n",
       "                }\n",
       "            );\n",
       "\n",
       "            \n",
       "\n",
       "        \n",
       "    \n",
       "            var tile_layer_f370fcbca5cde282c0a1f0e08eb81e36 = L.tileLayer(\n",
       "                &quot;https://{s}.tile.openstreetmap.org/{z}/{x}/{y}.png&quot;,\n",
       "                {&quot;attribution&quot;: &quot;Data by \\u0026copy; \\u003ca target=\\&quot;_blank\\&quot; href=\\&quot;http://openstreetmap.org\\&quot;\\u003eOpenStreetMap\\u003c/a\\u003e, under \\u003ca target=\\&quot;_blank\\&quot; href=\\&quot;http://www.openstreetmap.org/copyright\\&quot;\\u003eODbL\\u003c/a\\u003e.&quot;, &quot;detectRetina&quot;: false, &quot;maxNativeZoom&quot;: 18, &quot;maxZoom&quot;: 18, &quot;minZoom&quot;: 0, &quot;noWrap&quot;: false, &quot;opacity&quot;: 1, &quot;subdomains&quot;: &quot;abc&quot;, &quot;tms&quot;: false}\n",
       "            ).addTo(map_36208cd6cdb9dc174dcfaba659def923);\n",
       "        \n",
       "&lt;/script&gt;\n",
       "&lt;/html&gt;\" style=\"position:absolute;width:100%;height:100%;left:0;top:0;border:none !important;\" allowfullscreen webkitallowfullscreen mozallowfullscreen></iframe></div></div>"
      ],
      "text/plain": [
       "<folium.folium.Map at 0x1e100ab5210>"
      ]
     },
     "execution_count": 19,
     "metadata": {},
     "output_type": "execute_result"
    }
   ],
   "source": [
    "folium.Map(location=[latitude, longitude], tiles='OpenStreetMap', zoom_start=8, width='65%', height='65%')"
   ]
  }
 ],
 "metadata": {
  "kernelspec": {
   "display_name": "Python 3 (ipykernel)",
   "language": "python",
   "name": "python3"
  },
  "language_info": {
   "codemirror_mode": {
    "name": "ipython",
    "version": 3
   },
   "file_extension": ".py",
   "mimetype": "text/x-python",
   "name": "python",
   "nbconvert_exporter": "python",
   "pygments_lexer": "ipython3",
   "version": "3.11.3"
  }
 },
 "nbformat": 4,
 "nbformat_minor": 5
}
